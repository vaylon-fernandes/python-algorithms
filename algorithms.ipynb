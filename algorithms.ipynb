{
 "cells": [
  {
   "cell_type": "markdown",
   "id": "parallel-planner",
   "metadata": {},
   "source": [
    "# Algorithms"
   ]
  },
  {
   "cell_type": "markdown",
   "id": "minus-species",
   "metadata": {},
   "source": [
    "## Sorting Algorithms"
   ]
  },
  {
   "cell_type": "markdown",
   "id": "collected-guatemala",
   "metadata": {},
   "source": [
    "### Selection Sort"
   ]
  },
  {
   "cell_type": "code",
   "execution_count": 13,
   "id": "molecular-pantyhose",
   "metadata": {
    "ExecuteTime": {
     "end_time": "2021-06-09T16:38:02.614231Z",
     "start_time": "2021-06-09T16:38:02.602289Z"
    }
   },
   "outputs": [],
   "source": [
    "def selection_sort(array):\n",
    "    array_length = len(array)\n",
    "    for i in range(array_length):\n",
    "        min_index = i\n",
    "        for j in range(i + 1, array_length):\n",
    "            if array[min_index] > array[j]:\n",
    "                min_index = j\n",
    "        array[i], array[min_index] = array[min_index], array[i]"
   ]
  },
  {
   "cell_type": "code",
   "execution_count": 1,
   "id": "potential-departure",
   "metadata": {
    "ExecuteTime": {
     "end_time": "2021-06-09T16:32:54.516007Z",
     "start_time": "2021-06-09T16:32:54.504711Z"
    }
   },
   "outputs": [],
   "source": [
    "import random\n",
    "def rand_arr():\n",
    "    return [random.randint(1, 100000) for x in range(10000)]"
   ]
  },
  {
   "cell_type": "code",
   "execution_count": 7,
   "id": "458a3e96",
   "metadata": {
    "ExecuteTime": {
     "end_time": "2021-06-09T16:36:10.535357Z",
     "start_time": "2021-06-09T16:36:10.462264Z"
    }
   },
   "outputs": [],
   "source": [
    "arr = rand_arr()"
   ]
  },
  {
   "cell_type": "code",
   "execution_count": 22,
   "id": "literary-vocabulary",
   "metadata": {
    "ExecuteTime": {
     "end_time": "2021-06-09T17:00:11.860478Z",
     "start_time": "2021-06-09T17:00:11.843637Z"
    }
   },
   "outputs": [],
   "source": [
    "arr_1 = arr.copy()\n",
    "sorted_arr_1 = sorted(arr_1)"
   ]
  },
  {
   "cell_type": "code",
   "execution_count": 23,
   "id": "united-lucas",
   "metadata": {
    "ExecuteTime": {
     "end_time": "2021-06-09T17:00:54.152772Z",
     "start_time": "2021-06-09T17:00:43.249502Z"
    }
   },
   "outputs": [
    {
     "name": "stdout",
     "output_type": "stream",
     "text": [
      "10.892187595367432\n"
     ]
    }
   ],
   "source": [
    "import time\n",
    "def timer(func ,arr):    \n",
    "    e=time.time()\n",
    "    func(arr)\n",
    "    f=time.time()\n",
    "    print(f-e)\n",
    "    \n",
    "timer(selection_sort, arr_1)"
   ]
  },
  {
   "cell_type": "code",
   "execution_count": 24,
   "id": "activated-purchase",
   "metadata": {
    "ExecuteTime": {
     "end_time": "2021-06-09T17:01:10.098683Z",
     "start_time": "2021-06-09T17:00:59.201952Z"
    }
   },
   "outputs": [
    {
     "name": "stdout",
     "output_type": "stream",
     "text": [
      "10.890109777450562\n"
     ]
    }
   ],
   "source": [
    "timer(selection_sort, sorted_arr_1)"
   ]
  },
  {
   "cell_type": "markdown",
   "id": "cross-voltage",
   "metadata": {},
   "source": [
    "### Bubble Sort"
   ]
  },
  {
   "cell_type": "code",
   "execution_count": 28,
   "id": "joint-norway",
   "metadata": {
    "ExecuteTime": {
     "end_time": "2021-06-09T17:03:57.366550Z",
     "start_time": "2021-06-09T17:03:57.353668Z"
    }
   },
   "outputs": [],
   "source": [
    "def bubble_sort(array):\n",
    "    array_length = len(array)\n",
    "    for i in range(array_length):\n",
    "        for j in range(0, array_length-i-1):\n",
    "            if array[j] > array[j+1]:\n",
    "                array[j], array[j+1] = array[j+1], array[j]"
   ]
  },
  {
   "cell_type": "code",
   "execution_count": 29,
   "id": "nervous-candy",
   "metadata": {
    "ExecuteTime": {
     "end_time": "2021-06-09T17:03:58.204531Z",
     "start_time": "2021-06-09T17:03:58.196237Z"
    }
   },
   "outputs": [],
   "source": [
    "b = [5, 1, 2, 3, 4]"
   ]
  },
  {
   "cell_type": "code",
   "execution_count": 30,
   "id": "motivated-woman",
   "metadata": {
    "ExecuteTime": {
     "end_time": "2021-06-09T17:03:59.641443Z",
     "start_time": "2021-06-09T17:03:59.630502Z"
    }
   },
   "outputs": [
    {
     "data": {
      "text/plain": [
       "[1, 2, 3, 4, 5]"
      ]
     },
     "execution_count": 30,
     "metadata": {},
     "output_type": "execute_result"
    }
   ],
   "source": [
    "bubble_sort(b)\n",
    "b"
   ]
  },
  {
   "cell_type": "code",
   "execution_count": 33,
   "id": "different-magic",
   "metadata": {
    "ExecuteTime": {
     "end_time": "2021-06-09T17:05:07.286398Z",
     "start_time": "2021-06-09T17:05:07.275508Z"
    }
   },
   "outputs": [],
   "source": [
    "arr_2 = arr.copy()\n",
    "sorted_arr_2 = sorted(arr_2)"
   ]
  },
  {
   "cell_type": "code",
   "execution_count": 34,
   "id": "fixed-stick",
   "metadata": {
    "ExecuteTime": {
     "end_time": "2021-06-09T17:05:49.682699Z",
     "start_time": "2021-06-09T17:05:09.277150Z"
    }
   },
   "outputs": [
    {
     "name": "stdout",
     "output_type": "stream",
     "text": [
      "25.60936975479126\n",
      "14.787180662155151\n"
     ]
    }
   ],
   "source": [
    "timer(bubble_sort, arr_2)\n",
    "timer(bubble_sort, arr_2)"
   ]
  },
  {
   "cell_type": "markdown",
   "id": "norwegian-pioneer",
   "metadata": {},
   "source": [
    "#### Optimised Bubble Sort"
   ]
  },
  {
   "cell_type": "code",
   "execution_count": 38,
   "id": "documented-costa",
   "metadata": {
    "ExecuteTime": {
     "end_time": "2021-06-09T17:08:38.504981Z",
     "start_time": "2021-06-09T17:08:38.489006Z"
    }
   },
   "outputs": [],
   "source": [
    "def bubble_sort_optimised(array):\n",
    "    array_length = len(array)\n",
    "    for i in range(array_length):\n",
    "        swapped = False\n",
    "        for j in range(0, array_length-i-1):\n",
    "            if array[j] > array[j+1]:\n",
    "                array[j], array[j+1] = array[j+1], array[j]\n",
    "                swapped =True\n",
    "        if not swapped:\n",
    "            break "
   ]
  },
  {
   "cell_type": "code",
   "execution_count": 52,
   "id": "continuing-objective",
   "metadata": {},
   "outputs": [
    {
     "data": {
      "text/plain": [
       "[1, 2, 3, 4]"
      ]
     },
     "execution_count": 52,
     "metadata": {},
     "output_type": "execute_result"
    }
   ],
   "source": [
    "c = [4,2,3,1]\n",
    "bubble_sort_optimised(c)\n",
    "c"
   ]
  },
  {
   "cell_type": "code",
   "execution_count": 39,
   "id": "d21be7a3",
   "metadata": {
    "ExecuteTime": {
     "end_time": "2021-06-09T17:08:57.471914Z",
     "start_time": "2021-06-09T17:08:57.464000Z"
    }
   },
   "outputs": [],
   "source": [
    "arr_3 = arr.copy()"
   ]
  },
  {
   "cell_type": "code",
   "execution_count": 40,
   "id": "6ccbe56a",
   "metadata": {
    "ExecuteTime": {
     "end_time": "2021-06-09T17:09:27.842537Z",
     "start_time": "2021-06-09T17:09:01.295538Z"
    }
   },
   "outputs": [
    {
     "name": "stdout",
     "output_type": "stream",
     "text": [
      "26.53831720352173\n"
     ]
    }
   ],
   "source": [
    "timer(bubble_sort_optimised, arr_3)"
   ]
  },
  {
   "cell_type": "code",
   "execution_count": 41,
   "id": "ebe7f81b",
   "metadata": {
    "ExecuteTime": {
     "end_time": "2021-06-09T17:09:33.822494Z",
     "start_time": "2021-06-09T17:09:33.806044Z"
    }
   },
   "outputs": [
    {
     "name": "stdout",
     "output_type": "stream",
     "text": [
      "0.0047359466552734375\n"
     ]
    }
   ],
   "source": [
    "# sorted array \n",
    "timer(bubble_sort_optimised, arr_3)\n"
   ]
  },
  {
   "cell_type": "markdown",
   "id": "owned-brunswick",
   "metadata": {},
   "source": [
    "## Insertion Sort"
   ]
  },
  {
   "cell_type": "code",
   "execution_count": 43,
   "id": "collectible-pierce",
   "metadata": {
    "ExecuteTime": {
     "end_time": "2021-06-09T17:18:29.723756Z",
     "start_time": "2021-06-09T17:18:29.701085Z"
    }
   },
   "outputs": [],
   "source": [
    "def insertion_sort(arr:list):\n",
    "    arr_length = len(arr)\n",
    "    \n",
    "    for i in range(1, arr_length):\n",
    "        key = arr[i]\n",
    "        j = i - 1\n",
    "        while j >= 0 and key < arr[j] :\n",
    "            arr[j + 1] = arr[j]\n",
    "            j -= 1\n",
    "        arr[j+1] = key\n",
    "   \n",
    "        "
   ]
  },
  {
   "cell_type": "code",
   "execution_count": 42,
   "id": "tough-shower",
   "metadata": {
    "ExecuteTime": {
     "end_time": "2021-06-09T17:18:19.527072Z",
     "start_time": "2021-06-09T17:18:19.518603Z"
    }
   },
   "outputs": [],
   "source": [
    "arr_4 = arr.copy()"
   ]
  },
  {
   "cell_type": "code",
   "execution_count": 44,
   "id": "supported-friendship",
   "metadata": {
    "ExecuteTime": {
     "end_time": "2021-06-09T17:19:23.453731Z",
     "start_time": "2021-06-09T17:19:02.376338Z"
    }
   },
   "outputs": [
    {
     "name": "stdout",
     "output_type": "stream",
     "text": [
      "21.068450450897217\n"
     ]
    }
   ],
   "source": [
    "timer(insertion_sort, arr_4)"
   ]
  },
  {
   "cell_type": "code",
   "execution_count": 45,
   "id": "written-invasion",
   "metadata": {
    "ExecuteTime": {
     "end_time": "2021-06-09T17:19:39.888680Z",
     "start_time": "2021-06-09T17:19:39.856163Z"
    }
   },
   "outputs": [
    {
     "name": "stdout",
     "output_type": "stream",
     "text": [
      "0.007273674011230469\n"
     ]
    }
   ],
   "source": [
    "timer(insertion_sort, arr_4)"
   ]
  },
  {
   "cell_type": "code",
   "execution_count": 46,
   "id": "graphic-cameroon",
   "metadata": {
    "ExecuteTime": {
     "end_time": "2021-06-09T17:20:58.448617Z",
     "start_time": "2021-06-09T17:20:58.404038Z"
    }
   },
   "outputs": [
    {
     "name": "stdout",
     "output_type": "stream",
     "text": [
      "Given array is\n",
      "12 11 13 5 6 7 \n",
      "Sorted array is: \n",
      "5 6 7 11 12 13 \n"
     ]
    }
   ],
   "source": [
    "# Python program for implementation of MergeSort\n",
    "def mergeSort(arr):\n",
    "\tif len(arr) > 1:\n",
    "\n",
    "\t\t# Finding the mid of the array\n",
    "\t\tmid = len(arr)//2\n",
    "\n",
    "\t\t# Dividing the array elements\n",
    "\t\tL = arr[:mid]\n",
    "\n",
    "\t\t# into 2 halves\n",
    "\t\tR = arr[mid:]\n",
    "\n",
    "\t\t# Sorting the first half\n",
    "\t\tmergeSort(L)\n",
    "\n",
    "\t\t# Sorting the second half\n",
    "\t\tmergeSort(R)\n",
    "\n",
    "\t\ti = j = k = 0\n",
    "\n",
    "\t\t# Copy data to temp arrays L[] and R[]\n",
    "\t\twhile i < len(L) and j < len(R):\n",
    "\t\t\tif L[i] < R[j]:\n",
    "\t\t\t\tarr[k] = L[i]\n",
    "\t\t\t\ti += 1\n",
    "\t\t\telse:\n",
    "\t\t\t\tarr[k] = R[j]\n",
    "\t\t\t\tj += 1\n",
    "\t\t\tk += 1\n",
    "\n",
    "\t\t# Checking if any element was left\n",
    "\t\twhile i < len(L):\n",
    "\t\t\tarr[k] = L[i]\n",
    "\t\t\ti += 1\n",
    "\t\t\tk += 1\n",
    "\n",
    "\t\twhile j < len(R):\n",
    "\t\t\tarr[k] = R[j]\n",
    "\t\t\tj += 1\n",
    "\t\t\tk += 1\n",
    "\n",
    "# Code to print the list\n",
    "\n",
    "\n",
    "def printList(arr):\n",
    "\tfor i in range(len(arr)):\n",
    "\t\tprint(arr[i], end=\" \")\n",
    "\tprint()\n",
    "\n",
    "\n",
    "# Driver Code\n",
    "if __name__ == '__main__':\n",
    "\tarr = [12, 11, 13, 5, 6, 7]\n",
    "\tprint(\"Given array is\", end=\"\\n\")\n",
    "\tprintList(arr)\n",
    "\tmergeSort(arr)\n",
    "\tprint(\"Sorted array is: \", end=\"\\n\")\n",
    "\tprintList(arr)\n",
    "\n",
    "# This code is contributed by Mayank Khanna\n"
   ]
  },
  {
   "cell_type": "code",
   "execution_count": null,
   "id": "objective-isolation",
   "metadata": {},
   "outputs": [],
   "source": []
  },
  {
   "cell_type": "code",
   "execution_count": null,
   "id": "dressed-crest",
   "metadata": {
    "ExecuteTime": {
     "end_time": "2021-06-09T16:59:44.025516Z",
     "start_time": "2021-06-09T16:59:44.011744Z"
    }
   },
   "outputs": [],
   "source": []
  },
  {
   "cell_type": "code",
   "execution_count": null,
   "id": "329bc493",
   "metadata": {},
   "outputs": [],
   "source": []
  }
 ],
 "metadata": {
  "kernelspec": {
   "display_name": "Python 3",
   "language": "python",
   "name": "python3"
  },
  "language_info": {
   "codemirror_mode": {
    "name": "ipython",
    "version": 3
   },
   "file_extension": ".py",
   "mimetype": "text/x-python",
   "name": "python",
   "nbconvert_exporter": "python",
   "pygments_lexer": "ipython3",
   "version": "3.8.5"
  },
  "toc": {
   "base_numbering": 1,
   "nav_menu": {},
   "number_sections": true,
   "sideBar": true,
   "skip_h1_title": false,
   "title_cell": "Table of Contents",
   "title_sidebar": "Contents",
   "toc_cell": false,
   "toc_position": {},
   "toc_section_display": true,
   "toc_window_display": false
  },
  "varInspector": {
   "cols": {
    "lenName": 16,
    "lenType": 16,
    "lenVar": 40
   },
   "kernels_config": {
    "python": {
     "delete_cmd_postfix": "",
     "delete_cmd_prefix": "del ",
     "library": "var_list.py",
     "varRefreshCmd": "print(var_dic_list())"
    },
    "r": {
     "delete_cmd_postfix": ") ",
     "delete_cmd_prefix": "rm(",
     "library": "var_list.r",
     "varRefreshCmd": "cat(var_dic_list()) "
    }
   },
   "types_to_exclude": [
    "module",
    "function",
    "builtin_function_or_method",
    "instance",
    "_Feature"
   ],
   "window_display": false
  }
 },
 "nbformat": 4,
 "nbformat_minor": 5
}
