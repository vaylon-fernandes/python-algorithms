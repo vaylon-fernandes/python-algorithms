{
 "cells": [
  {
   "cell_type": "markdown",
   "id": "parallel-planner",
   "metadata": {},
   "source": [
    "# Algorithms"
   ]
  },
  {
   "cell_type": "markdown",
   "id": "minus-species",
   "metadata": {},
   "source": [
    "## Sorting Algorithms"
   ]
  },
  {
   "cell_type": "markdown",
   "id": "collected-guatemala",
   "metadata": {},
   "source": [
    "### Selection Sort"
   ]
  },
  {
   "cell_type": "code",
   "execution_count": 6,
   "id": "molecular-pantyhose",
   "metadata": {},
   "outputs": [],
   "source": [
    "def selection_sort(array):\n",
    "    array_length = len(array)\n",
    "    for i in range(array_length):\n",
    "        min_index = i\n",
    "        for j in range(i + 1, array_length): \n",
    "            if array[min_index] > array[j]:\n",
    "                min_index = j\n",
    "        array[i], array[min_index] = array[min_index], array[i]\n",
    "            "
   ]
  },
  {
   "cell_type": "code",
   "execution_count": 7,
   "id": "potential-departure",
   "metadata": {},
   "outputs": [],
   "source": [
    "import random\n",
    "def rand_arr():\n",
    "    return [random.randint(1, 100000) for x in range(10000)]"
   ]
  },
  {
   "cell_type": "code",
   "execution_count": 16,
   "id": "literary-vocabulary",
   "metadata": {},
   "outputs": [],
   "source": [
    "a = sorted([random.randint(1, 100000) for x in range(10000)])"
   ]
  },
  {
   "cell_type": "code",
   "execution_count": 17,
   "id": "united-lucas",
   "metadata": {},
   "outputs": [
    {
     "name": "stdout",
     "output_type": "stream",
     "text": [
      "9.630540609359741\n"
     ]
    }
   ],
   "source": [
    "import time\n",
    "def timer(func ,arr=rand_arr()):    \n",
    "    e=time.time()\n",
    "    func(arr)\n",
    "    f=time.time()\n",
    "    print(f-e)\n",
    "    \n",
    "timer(selection_sort)"
   ]
  },
  {
   "cell_type": "code",
   "execution_count": 9,
   "id": "activated-purchase",
   "metadata": {},
   "outputs": [
    {
     "ename": "NameError",
     "evalue": "name 'a' is not defined",
     "output_type": "error",
     "traceback": [
      "\u001b[0;31m---------------------------------------------------------------------------\u001b[0m",
      "\u001b[0;31mNameError\u001b[0m                                 Traceback (most recent call last)",
      "\u001b[0;32m<ipython-input-9-4c0515071719>\u001b[0m in \u001b[0;36m<module>\u001b[0;34m\u001b[0m\n\u001b[1;32m      1\u001b[0m \u001b[0;32mimport\u001b[0m \u001b[0mtime\u001b[0m\u001b[0;34m\u001b[0m\u001b[0;34m\u001b[0m\u001b[0m\n\u001b[0;32m----> 2\u001b[0;31m \u001b[0ma\u001b[0m\u001b[0;34m\u001b[0m\u001b[0;34m\u001b[0m\u001b[0m\n\u001b[0m",
      "\u001b[0;31mNameError\u001b[0m: name 'a' is not defined"
     ]
    }
   ],
   "source": [
    "import time\n",
    "a"
   ]
  },
  {
   "cell_type": "markdown",
   "id": "cross-voltage",
   "metadata": {},
   "source": [
    "### Bubble Sort"
   ]
  },
  {
   "cell_type": "code",
   "execution_count": 10,
   "id": "joint-norway",
   "metadata": {},
   "outputs": [],
   "source": [
    "def bubble_sort(array):\n",
    "    array_length = len(array)\n",
    "    for i in range(array_length):\n",
    "        for j in range(0, array_length-i-1):\n",
    "            if array[j] > array[j+1]:\n",
    "                array[j], array[j+1] = array[j+1], array[j]"
   ]
  },
  {
   "cell_type": "code",
   "execution_count": 11,
   "id": "nervous-candy",
   "metadata": {},
   "outputs": [],
   "source": [
    "b = [5, 1, 2, 3, 4]"
   ]
  },
  {
   "cell_type": "code",
   "execution_count": 12,
   "id": "motivated-woman",
   "metadata": {},
   "outputs": [
    {
     "data": {
      "text/plain": [
       "[1, 2, 3, 4, 5]"
      ]
     },
     "execution_count": 12,
     "metadata": {},
     "output_type": "execute_result"
    }
   ],
   "source": [
    "bubble_sort(b)\n",
    "b"
   ]
  },
  {
   "cell_type": "code",
   "execution_count": 18,
   "id": "different-magic",
   "metadata": {},
   "outputs": [
    {
     "name": "stdout",
     "output_type": "stream",
     "text": [
      "12.139796257019043\n"
     ]
    }
   ],
   "source": [
    "timer(bubble_sort, a)"
   ]
  },
  {
   "cell_type": "code",
   "execution_count": 55,
   "id": "fixed-stick",
   "metadata": {},
   "outputs": [
    {
     "name": "stdout",
     "output_type": "stream",
     "text": [
      "11.595373392105103\n"
     ]
    }
   ],
   "source": [
    "timer(bubble_sort)"
   ]
  },
  {
   "cell_type": "markdown",
   "id": "norwegian-pioneer",
   "metadata": {},
   "source": [
    "#### Optimised Bubble Sort"
   ]
  },
  {
   "cell_type": "code",
   "execution_count": 14,
   "id": "documented-costa",
   "metadata": {},
   "outputs": [],
   "source": [
    "def bubble_sort_optimised(array):\n",
    "    array_length = len(array)\n",
    "    for i in range(array_length):\n",
    "        swapped = False\n",
    "        for j in range(0, array_length-i-1):\n",
    "            if array[j] > array[j+1]:\n",
    "                array[j], array[j+1] = array[j+1], array[j]\n",
    "                swapped =True\n",
    "        if not swapped:\n",
    "            break "
   ]
  },
  {
   "cell_type": "code",
   "execution_count": 20,
   "id": "scenic-nature",
   "metadata": {},
   "outputs": [
    {
     "name": "stdout",
     "output_type": "stream",
     "text": [
      "0.0029659271240234375\n"
     ]
    }
   ],
   "source": [
    "timer(bubble_sort_optimised, a)"
   ]
  },
  {
   "cell_type": "code",
   "execution_count": 52,
   "id": "continuing-objective",
   "metadata": {},
   "outputs": [
    {
     "data": {
      "text/plain": [
       "[1, 2, 3, 4]"
      ]
     },
     "execution_count": 52,
     "metadata": {},
     "output_type": "execute_result"
    }
   ],
   "source": [
    "c = [4,2,3,1]\n",
    "bubble_sort_optimised(c)\n",
    "c"
   ]
  },
  {
   "cell_type": "markdown",
   "id": "owned-brunswick",
   "metadata": {},
   "source": [
    "## Insertion Sort"
   ]
  },
  {
   "cell_type": "code",
   "execution_count": 51,
   "id": "collectible-pierce",
   "metadata": {},
   "outputs": [],
   "source": [
    "def insertion_sort(arr:list):\n",
    "    arr_length = len(arr)\n",
    "    \n",
    "    for i in range(1, arr_length):\n",
    "        key = arr[i]\n",
    "        j = i - 1\n",
    "        while j >= 0 and key < arr[j] :\n",
    "            arr[j + 1] = arr[j]\n",
    "            j -= 1\n",
    "        arr[j+1] = key\n",
    "   \n",
    "        "
   ]
  },
  {
   "cell_type": "code",
   "execution_count": 65,
   "id": "tough-shower",
   "metadata": {},
   "outputs": [
    {
     "name": "stdout",
     "output_type": "stream",
     "text": [
      "19.83041524887085\n"
     ]
    }
   ],
   "source": [
    "timer(insertion_sort, unsort)"
   ]
  },
  {
   "cell_type": "code",
   "execution_count": 64,
   "id": "supported-friendship",
   "metadata": {},
   "outputs": [],
   "source": [
    "unsort = [i for i in range(10000,0,-1)]"
   ]
  },
  {
   "cell_type": "code",
   "execution_count": null,
   "id": "written-invasion",
   "metadata": {},
   "outputs": [],
   "source": []
  },
  {
   "cell_type": "code",
   "execution_count": 68,
   "id": "graphic-cameroon",
   "metadata": {},
   "outputs": [
    {
     "name": "stdout",
     "output_type": "stream",
     "text": [
      "Given array is\n",
      "12 11 13 5 6 7 \n",
      "Sorted array is: \n",
      "5 6 7 11 12 13 \n"
     ]
    }
   ],
   "source": [
    "# Python program for implementation of MergeSort\n",
    "def mergeSort(arr):\n",
    "\tif len(arr) > 1:\n",
    "\n",
    "\t\t# Finding the mid of the array\n",
    "\t\tmid = len(arr)//2\n",
    "\n",
    "\t\t# Dividing the array elements\n",
    "\t\tL = arr[:mid]\n",
    "\n",
    "\t\t# into 2 halves\n",
    "\t\tR = arr[mid:]\n",
    "\n",
    "\t\t# Sorting the first half\n",
    "\t\tmergeSort(L)\n",
    "\n",
    "\t\t# Sorting the second half\n",
    "\t\tmergeSort(R)\n",
    "\n",
    "\t\ti = j = k = 0\n",
    "\n",
    "\t\t# Copy data to temp arrays L[] and R[]\n",
    "\t\twhile i < len(L) and j < len(R):\n",
    "\t\t\tif L[i] < R[j]:\n",
    "\t\t\t\tarr[k] = L[i]\n",
    "\t\t\t\ti += 1\n",
    "\t\t\telse:\n",
    "\t\t\t\tarr[k] = R[j]\n",
    "\t\t\t\tj += 1\n",
    "\t\t\tk += 1\n",
    "\n",
    "\t\t# Checking if any element was left\n",
    "\t\twhile i < len(L):\n",
    "\t\t\tarr[k] = L[i]\n",
    "\t\t\ti += 1\n",
    "\t\t\tk += 1\n",
    "\n",
    "\t\twhile j < len(R):\n",
    "\t\t\tarr[k] = R[j]\n",
    "\t\t\tj += 1\n",
    "\t\t\tk += 1\n",
    "\n",
    "# Code to print the list\n",
    "\n",
    "\n",
    "def printList(arr):\n",
    "\tfor i in range(len(arr)):\n",
    "\t\tprint(arr[i], end=\" \")\n",
    "\tprint()\n",
    "\n",
    "\n",
    "# Driver Code\n",
    "if __name__ == '__main__':\n",
    "\tarr = [12, 11, 13, 5, 6, 7]\n",
    "\tprint(\"Given array is\", end=\"\\n\")\n",
    "\tprintList(arr)\n",
    "\tmergeSort(arr)\n",
    "\tprint(\"Sorted array is: \", end=\"\\n\")\n",
    "\tprintList(arr)\n",
    "\n",
    "# This code is contributed by Mayank Khanna\n"
   ]
  },
  {
   "cell_type": "code",
   "execution_count": null,
   "id": "objective-isolation",
   "metadata": {},
   "outputs": [],
   "source": []
  }
 ],
 "metadata": {
  "kernelspec": {
   "display_name": "Python 3",
   "language": "python",
   "name": "python3"
  },
  "language_info": {
   "codemirror_mode": {
    "name": "ipython",
    "version": 3
   },
   "file_extension": ".py",
   "mimetype": "text/x-python",
   "name": "python",
   "nbconvert_exporter": "python",
   "pygments_lexer": "ipython3",
   "version": "3.8.5"
  }
 },
 "nbformat": 4,
 "nbformat_minor": 5
}
